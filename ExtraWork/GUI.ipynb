{
 "cells": [
  {
   "cell_type": "code",
   "execution_count": 1,
   "metadata": {},
   "outputs": [],
   "source": [
    "from tkinter import *\n",
    "\n",
    "def labledisplay():\n",
    "    name = filename.get()\n",
    "    mylab1 = Label(obj2, text = name, font = 10 ).pack()\n",
    "#     button.config(text=\"Hello, World!\")\n",
    "\n",
    "def openmyfile():\n",
    "    obj.filename =  filedialog.askopenfilename(initialdir = \"/\",title = \"Select file\",filetypes = ((\"jpeg files\",\"*.jpg\"),(\"all files\",\"*.*\")))\n",
    "    print (obj2.filename)\n",
    "#     myfile = filedi\n",
    "#     mylab2 = Label(obj2, text =\"Enter file name:\", font = 10 )\n",
    "        \n",
    "        \n",
    "obj = Tk()\n",
    "obj2 = Tk()\n",
    "\n",
    "obj.geometry(\"300x300\")\n",
    "obj.title(\"Linear Regression\")\n",
    "\n",
    "obj2.geometry(\"500x500\")\n",
    "obj2.title(\"Linear 2\")\n",
    " \n",
    "filename = StringVar()\n",
    "\n",
    "mylabel1 = Label(obj, text=\"Enter file name:\",fg = 'Blue', font=20)\n",
    "mylabel1.grid(column=0, row=0)\n",
    "\n",
    "text = Entry(textvariable = filename)\n",
    "text.grid(column=0, row=1)\n",
    "\n",
    "# btn = Button(window, text=\"Click Me\", )\n",
    "\n",
    "enterbutton = Button(obj, text = \"Click\",command = labledisplay, bg= 'orange', fg= 'red', font = 20)\n",
    "enterbutton.grid(column=1, row=1)\n",
    "\n",
    "obj.mainloop()"
   ]
  },
  {
   "cell_type": "code",
   "execution_count": 88,
   "metadata": {},
   "outputs": [],
   "source": [
    "from tkinter import * \n",
    "# import tkinter as tk\n",
    "\n",
    "\n",
    "# win = TK()\n",
    "\n",
    "def filedetails():\n",
    "    name = filename.get()\n",
    "    button.config(text=name)\n",
    "#     mylab2 = Label(root, text = name, font = 10 )\n",
    "\n",
    "# root.title(\"Linear Regression\")\n",
    "# win.title(\"2nd window\")\n",
    "#You can set the geometry attribute to change the root windows size\n",
    "# root.geometry(\"500x500\") #You want the size of the app to be 500x500\n",
    "# root.geometry(\"500 x 500 \")\n",
    "\n",
    "root = Tk()\n",
    "\n",
    "filename = StringVar()\n",
    "# B = Tkinter.Button(top, text =\"Hello\", command = helloCallBack)\n",
    "enterfile = Label(root, text =\"Enter file name:\", font = 20 )\n",
    "enterbutton = Button(root, text = \"Enter\",)\n",
    "root.title(\"Main window\")\n",
    "\n",
    "root = mainloop()"
   ]
  },
  {
   "cell_type": "code",
   "execution_count": null,
   "metadata": {},
   "outputs": [],
   "source": []
  }
 ],
 "metadata": {
  "kernelspec": {
   "display_name": "Python 3",
   "language": "python",
   "name": "python3"
  },
  "language_info": {
   "codemirror_mode": {
    "name": "ipython",
    "version": 3
   },
   "file_extension": ".py",
   "mimetype": "text/x-python",
   "name": "python",
   "nbconvert_exporter": "python",
   "pygments_lexer": "ipython3",
   "version": "3.7.2"
  }
 },
 "nbformat": 4,
 "nbformat_minor": 2
}
